{
  "nbformat": 4,
  "nbformat_minor": 0,
  "metadata": {
    "colab": {
      "provenance": []
    },
    "kernelspec": {
      "name": "python3",
      "display_name": "Python 3"
    },
    "language_info": {
      "name": "python"
    }
  },
  "cells": [
    {
      "cell_type": "code",
      "source": [
        "from google.colab import drive\n",
        "drive.mount(\"/content/drive\")"
      ],
      "metadata": {
        "colab": {
          "base_uri": "https://localhost:8080/"
        },
        "id": "-MdubTW5SJAF",
        "outputId": "4f70f677-fc1e-4b43-a1b4-ce9118558395"
      },
      "execution_count": 9,
      "outputs": [
        {
          "output_type": "stream",
          "name": "stdout",
          "text": [
            "Drive already mounted at /content/drive; to attempt to forcibly remount, call drive.mount(\"/content/drive\", force_remount=True).\n"
          ]
        }
      ]
    },
    {
      "cell_type": "code",
      "source": [
        "import pandas as pd"
      ],
      "metadata": {
        "id": "oHEllqyGpAIe"
      },
      "execution_count": 10,
      "outputs": []
    },
    {
      "cell_type": "code",
      "source": [
        "path = \"/content/drive/MyDrive/Colab Notebooks/Datasets/user_history.csv\""
      ],
      "metadata": {
        "id": "it9VEUi0pG_T"
      },
      "execution_count": 11,
      "outputs": []
    },
    {
      "cell_type": "code",
      "source": [
        "# Load the CSV file (user history dataset) into a Pandas DataFrame\n",
        "data = pd.read_csv(path)"
      ],
      "metadata": {
        "id": "TQr9NJ-Wpb7R"
      },
      "execution_count": 12,
      "outputs": []
    },
    {
      "cell_type": "code",
      "source": [
        "# Count how often each user has searched for each product\n",
        "product_counts = data.groupby(['user_id', 'searched_product']).size().reset_index(name='counts')\n",
        "\n",
        "# Identify the top 5 products for each user\n",
        "top_5_products = product_counts.groupby('user_id', group_keys=False).apply(lambda grp: grp.nlargest(5, 'counts')).reset_index(drop=True)"
      ],
      "metadata": {
        "id": "Kx1j0m9QqTob"
      },
      "execution_count": 13,
      "outputs": []
    },
    {
      "cell_type": "code",
      "source": [
        "# To provide recommendations for a particular user\n",
        "user_id = 1001\n",
        "recommendations = top_5_products[top_5_products['user_id'] == user_id]['searched_product'].tolist()\n",
        "\n",
        "if (recommendations): {\n",
        "    print(recommendations)\n",
        "}\n",
        "else: {\n",
        "    print(\"No recommended products to show!\")\n",
        "}\n"
      ],
      "metadata": {
        "colab": {
          "base_uri": "https://localhost:8080/"
        },
        "id": "yKR-n9M_n38s",
        "outputId": "7ffe2054-2c02-4f77-a85b-d5ac9602d82c"
      },
      "execution_count": 18,
      "outputs": [
        {
          "output_type": "stream",
          "name": "stdout",
          "text": [
            "['Body lotion', 'Marie', 'shampoo', 'Cornflakes', 'Toothpaste']\n"
          ]
        }
      ]
    },
    {
      "cell_type": "code",
      "source": [],
      "metadata": {
        "id": "5LReub7RuzVV"
      },
      "execution_count": null,
      "outputs": []
    }
  ]
}